{
 "cells": [
  {
   "cell_type": "markdown",
   "id": "decimal-texas",
   "metadata": {
    "id": "J2H7B7kCJDJ7",
    "papermill": {
     "duration": 0.011594,
     "end_time": "2021-05-10T11:01:39.068982",
     "exception": false,
     "start_time": "2021-05-10T11:01:39.057388",
     "status": "completed"
    },
    "tags": []
   },
   "source": [
    "## Model Ensembling and Validation\n",
    "\n",
    "This notebok will import the models, combine them as a voting classifier and finally test compare the accuracy of the voting classifier with the accuracies of the individuals.\n",
    "\n",
    "But before that we will see the accuracies of the individual modeld from a grid search."
   ]
  },
  {
   "cell_type": "code",
   "execution_count": 1,
   "id": "suitable-heaven",
   "metadata": {
    "execution": {
     "iopub.execute_input": "2021-05-10T11:01:39.097117Z",
     "iopub.status.busy": "2021-05-10T11:01:39.096329Z",
     "iopub.status.idle": "2021-05-10T11:01:40.116813Z",
     "shell.execute_reply": "2021-05-10T11:01:40.117342Z"
    },
    "id": "BhaeWweamMFM",
    "papermill": {
     "duration": 1.037138,
     "end_time": "2021-05-10T11:01:40.117695",
     "exception": false,
     "start_time": "2021-05-10T11:01:39.080557",
     "status": "completed"
    },
    "tags": []
   },
   "outputs": [],
   "source": [
    "import joblib\n",
    "import pandas as pd\n",
    "import seaborn as sns\n",
    "import matplotlib.pyplot as plt"
   ]
  },
  {
   "cell_type": "code",
   "execution_count": 2,
   "id": "funky-martin",
   "metadata": {
    "execution": {
     "iopub.execute_input": "2021-05-10T11:01:40.143089Z",
     "iopub.status.busy": "2021-05-10T11:01:40.142163Z",
     "iopub.status.idle": "2021-05-10T11:01:40.166353Z",
     "shell.execute_reply": "2021-05-10T11:01:40.165796Z"
    },
    "id": "ZC3RHmiHMKRk",
    "papermill": {
     "duration": 0.037763,
     "end_time": "2021-05-10T11:01:40.166489",
     "exception": false,
     "start_time": "2021-05-10T11:01:40.128726",
     "status": "completed"
    },
    "tags": []
   },
   "outputs": [],
   "source": [
    "# Loading the Grid Search CV results \n",
    "result = pd.read_csv('./Data/result.csv')"
   ]
  },
  {
   "cell_type": "code",
   "execution_count": 3,
   "id": "freelance-combine",
   "metadata": {
    "execution": {
     "iopub.execute_input": "2021-05-10T11:01:40.202459Z",
     "iopub.status.busy": "2021-05-10T11:01:40.201421Z",
     "iopub.status.idle": "2021-05-10T11:01:40.219364Z",
     "shell.execute_reply": "2021-05-10T11:01:40.218855Z"
    },
    "id": "03wlH0YmNkfK",
    "outputId": "16873387-d604-4acc-d0de-f86cb9980304",
    "papermill": {
     "duration": 0.042335,
     "end_time": "2021-05-10T11:01:40.219504",
     "exception": false,
     "start_time": "2021-05-10T11:01:40.177169",
     "status": "completed"
    },
    "tags": []
   },
   "outputs": [
    {
     "data": {
      "text/html": [
       "<div>\n",
       "<style scoped>\n",
       "    .dataframe tbody tr th:only-of-type {\n",
       "        vertical-align: middle;\n",
       "    }\n",
       "\n",
       "    .dataframe tbody tr th {\n",
       "        vertical-align: top;\n",
       "    }\n",
       "\n",
       "    .dataframe thead th {\n",
       "        text-align: right;\n",
       "    }\n",
       "</style>\n",
       "<table border=\"1\" class=\"dataframe\">\n",
       "  <thead>\n",
       "    <tr style=\"text-align: right;\">\n",
       "      <th></th>\n",
       "      <th>Unnamed: 0</th>\n",
       "      <th>Mean Score</th>\n",
       "      <th>Model</th>\n",
       "    </tr>\n",
       "  </thead>\n",
       "  <tbody>\n",
       "    <tr>\n",
       "      <th>0</th>\n",
       "      <td>0</td>\n",
       "      <td>0.892762</td>\n",
       "      <td>Random Forest</td>\n",
       "    </tr>\n",
       "    <tr>\n",
       "      <th>1</th>\n",
       "      <td>1</td>\n",
       "      <td>0.893348</td>\n",
       "      <td>LGBM</td>\n",
       "    </tr>\n",
       "    <tr>\n",
       "      <th>2</th>\n",
       "      <td>2</td>\n",
       "      <td>0.891184</td>\n",
       "      <td>MLP</td>\n",
       "    </tr>\n",
       "    <tr>\n",
       "      <th>3</th>\n",
       "      <td>3</td>\n",
       "      <td>0.893168</td>\n",
       "      <td>XGBoost</td>\n",
       "    </tr>\n",
       "  </tbody>\n",
       "</table>\n",
       "</div>"
      ],
      "text/plain": [
       "   Unnamed: 0  Mean Score          Model\n",
       "0           0    0.892762  Random Forest\n",
       "1           1    0.893348           LGBM\n",
       "2           2    0.891184            MLP\n",
       "3           3    0.893168        XGBoost"
      ]
     },
     "execution_count": 3,
     "metadata": {},
     "output_type": "execute_result"
    }
   ],
   "source": [
    "result"
   ]
  },
  {
   "cell_type": "code",
   "execution_count": 4,
   "id": "formal-british",
   "metadata": {
    "execution": {
     "iopub.execute_input": "2021-05-10T11:01:40.270923Z",
     "iopub.status.busy": "2021-05-10T11:01:40.270157Z",
     "iopub.status.idle": "2021-05-10T11:01:40.449779Z",
     "shell.execute_reply": "2021-05-10T11:01:40.449122Z"
    },
    "id": "O4R19gByM6EC",
    "outputId": "e2235843-e4c1-4288-85b6-3e0c0dca0b28",
    "papermill": {
     "duration": 0.219239,
     "end_time": "2021-05-10T11:01:40.449922",
     "exception": false,
     "start_time": "2021-05-10T11:01:40.230683",
     "status": "completed"
    },
    "tags": []
   },
   "outputs": [
    {
     "data": {
      "image/png": "[encoded data removed]",
      "text/plain": [
       "<Figure size 432x288 with 1 Axes>"
      ]
     },
     "metadata": {},
     "output_type": "display_data"
    }
   ],
   "source": [
    "sns.set_theme('talk')\n",
    "sns.barplot(data=result, x='Mean Score', y='Model')\n",
    "plt.show()"
   ]
  },
  {
   "cell_type": "markdown",
   "id": "korean-johns",
   "metadata": {
    "id": "QCD_tuI4QtLu",
    "papermill": {
     "duration": 0.012156,
     "end_time": "2021-05-10T11:01:40.474391",
     "exception": false,
     "start_time": "2021-05-10T11:01:40.462235",
     "status": "completed"
    },
    "tags": []
   },
   "source": [
    "**Observations**\n",
    "\n",
    "1. All the models perform with an accuracy of over 85% with XGBoost performing marginally better\n",
    "\n"
   ]
  },
  {
   "cell_type": "code",
   "execution_count": 5,
   "id": "fourth-perfume",
   "metadata": {
    "execution": {
     "iopub.execute_input": "2021-05-10T11:01:40.504945Z",
     "iopub.status.busy": "2021-05-10T11:01:40.504323Z",
     "iopub.status.idle": "2021-05-10T11:01:40.697050Z",
     "shell.execute_reply": "2021-05-10T11:01:40.696305Z"
    },
    "id": "yZWFeAn1YMqp",
    "papermill": {
     "duration": 0.210295,
     "end_time": "2021-05-10T11:01:40.697242",
     "exception": false,
     "start_time": "2021-05-10T11:01:40.486947",
     "status": "completed"
    },
    "tags": []
   },
   "outputs": [],
   "source": [
    "test = pd.read_csv('./Data/test.csv')\n",
    "train = pd.read_csv('./Data/train.csv')"
   ]
  },
  {
   "cell_type": "code",
   "execution_count": 6,
   "id": "norwegian-competition",
   "metadata": {
    "execution": {
     "iopub.execute_input": "2021-05-10T11:01:40.739470Z",
     "iopub.status.busy": "2021-05-10T11:01:40.735616Z",
     "iopub.status.idle": "2021-05-10T11:01:40.759595Z",
     "shell.execute_reply": "2021-05-10T11:01:40.758508Z"
    },
    "id": "D8M6Y5VIYaCb",
    "outputId": "c3f1a8b7-f855-4755-d21a-0d8df0dab2f9",
    "papermill": {
     "duration": 0.049939,
     "end_time": "2021-05-10T11:01:40.759838",
     "exception": false,
     "start_time": "2021-05-10T11:01:40.709899",
     "status": "completed"
    },
    "tags": []
   },
   "outputs": [
    {
     "data": {
      "text/html": [
       "<div>\n",
       "<style scoped>\n",
       "    .dataframe tbody tr th:only-of-type {\n",
       "        vertical-align: middle;\n",
       "    }\n",
       "\n",
       "    .dataframe tbody tr th {\n",
       "        vertical-align: top;\n",
       "    }\n",
       "\n",
       "    .dataframe thead th {\n",
       "        text-align: right;\n",
       "    }\n",
       "</style>\n",
       "<table border=\"1\" class=\"dataframe\">\n",
       "  <thead>\n",
       "    <tr style=\"text-align: right;\">\n",
       "      <th></th>\n",
       "      <th>status</th>\n",
       "      <th>investment_rounds</th>\n",
       "      <th>invested_companies</th>\n",
       "      <th>funding_rounds</th>\n",
       "      <th>funding_total_usd</th>\n",
       "      <th>milestones</th>\n",
       "      <th>relationships</th>\n",
       "      <th>angel</th>\n",
       "      <th>crowdfunding</th>\n",
       "      <th>other</th>\n",
       "      <th>...</th>\n",
       "      <th>EU</th>\n",
       "      <th>NA</th>\n",
       "      <th>SA</th>\n",
       "      <th>UT</th>\n",
       "      <th>BZ</th>\n",
       "      <th>HE</th>\n",
       "      <th>LE</th>\n",
       "      <th>OT</th>\n",
       "      <th>PC</th>\n",
       "      <th>TR</th>\n",
       "    </tr>\n",
       "  </thead>\n",
       "  <tbody>\n",
       "    <tr>\n",
       "      <th>0</th>\n",
       "      <td>3</td>\n",
       "      <td>0</td>\n",
       "      <td>0</td>\n",
       "      <td>1</td>\n",
       "      <td>-0.196244</td>\n",
       "      <td>0</td>\n",
       "      <td>0</td>\n",
       "      <td>0.0</td>\n",
       "      <td>0.0</td>\n",
       "      <td>1.0</td>\n",
       "      <td>...</td>\n",
       "      <td>0.0</td>\n",
       "      <td>1.0</td>\n",
       "      <td>0.0</td>\n",
       "      <td>0.0</td>\n",
       "      <td>1.0</td>\n",
       "      <td>0.0</td>\n",
       "      <td>0.0</td>\n",
       "      <td>0.0</td>\n",
       "      <td>0.0</td>\n",
       "      <td>0.0</td>\n",
       "    </tr>\n",
       "    <tr>\n",
       "      <th>1</th>\n",
       "      <td>3</td>\n",
       "      <td>0</td>\n",
       "      <td>0</td>\n",
       "      <td>2</td>\n",
       "      <td>-0.067206</td>\n",
       "      <td>2</td>\n",
       "      <td>12</td>\n",
       "      <td>0.0</td>\n",
       "      <td>0.0</td>\n",
       "      <td>0.0</td>\n",
       "      <td>...</td>\n",
       "      <td>0.0</td>\n",
       "      <td>1.0</td>\n",
       "      <td>0.0</td>\n",
       "      <td>0.0</td>\n",
       "      <td>1.0</td>\n",
       "      <td>0.0</td>\n",
       "      <td>0.0</td>\n",
       "      <td>0.0</td>\n",
       "      <td>0.0</td>\n",
       "      <td>0.0</td>\n",
       "    </tr>\n",
       "    <tr>\n",
       "      <th>2</th>\n",
       "      <td>0</td>\n",
       "      <td>0</td>\n",
       "      <td>0</td>\n",
       "      <td>1</td>\n",
       "      <td>-0.204481</td>\n",
       "      <td>1</td>\n",
       "      <td>3</td>\n",
       "      <td>1.0</td>\n",
       "      <td>0.0</td>\n",
       "      <td>0.0</td>\n",
       "      <td>...</td>\n",
       "      <td>0.0</td>\n",
       "      <td>1.0</td>\n",
       "      <td>0.0</td>\n",
       "      <td>0.0</td>\n",
       "      <td>0.0</td>\n",
       "      <td>0.0</td>\n",
       "      <td>1.0</td>\n",
       "      <td>0.0</td>\n",
       "      <td>0.0</td>\n",
       "      <td>0.0</td>\n",
       "    </tr>\n",
       "    <tr>\n",
       "      <th>3</th>\n",
       "      <td>3</td>\n",
       "      <td>0</td>\n",
       "      <td>0</td>\n",
       "      <td>1</td>\n",
       "      <td>-0.094661</td>\n",
       "      <td>2</td>\n",
       "      <td>21</td>\n",
       "      <td>0.0</td>\n",
       "      <td>0.0</td>\n",
       "      <td>0.0</td>\n",
       "      <td>...</td>\n",
       "      <td>0.0</td>\n",
       "      <td>1.0</td>\n",
       "      <td>0.0</td>\n",
       "      <td>0.0</td>\n",
       "      <td>0.0</td>\n",
       "      <td>0.0</td>\n",
       "      <td>0.0</td>\n",
       "      <td>0.0</td>\n",
       "      <td>0.0</td>\n",
       "      <td>0.0</td>\n",
       "    </tr>\n",
       "    <tr>\n",
       "      <th>4</th>\n",
       "      <td>3</td>\n",
       "      <td>0</td>\n",
       "      <td>0</td>\n",
       "      <td>2</td>\n",
       "      <td>-0.177496</td>\n",
       "      <td>3</td>\n",
       "      <td>4</td>\n",
       "      <td>2.0</td>\n",
       "      <td>0.0</td>\n",
       "      <td>0.0</td>\n",
       "      <td>...</td>\n",
       "      <td>0.0</td>\n",
       "      <td>0.0</td>\n",
       "      <td>0.0</td>\n",
       "      <td>1.0</td>\n",
       "      <td>0.0</td>\n",
       "      <td>0.0</td>\n",
       "      <td>1.0</td>\n",
       "      <td>0.0</td>\n",
       "      <td>0.0</td>\n",
       "      <td>0.0</td>\n",
       "    </tr>\n",
       "  </tbody>\n",
       "</table>\n",
       "<p>5 rows × 31 columns</p>\n",
       "</div>"
      ],
      "text/plain": [
       "   status  investment_rounds  invested_companies  funding_rounds  \\\n",
       "0       3                  0                   0               1   \n",
       "1       3                  0                   0               2   \n",
       "2       0                  0                   0               1   \n",
       "3       3                  0                   0               1   \n",
       "4       3                  0                   0               2   \n",
       "\n",
       "   funding_total_usd  milestones  relationships  angel  crowdfunding  other  \\\n",
       "0          -0.196244           0              0    0.0           0.0    1.0   \n",
       "1          -0.067206           2             12    0.0           0.0    0.0   \n",
       "2          -0.204481           1              3    1.0           0.0    0.0   \n",
       "3          -0.094661           2             21    0.0           0.0    0.0   \n",
       "4          -0.177496           3              4    2.0           0.0    0.0   \n",
       "\n",
       "   ...   EU   NA   SA   UT   BZ   HE   LE   OT   PC   TR  \n",
       "0  ...  0.0  1.0  0.0  0.0  1.0  0.0  0.0  0.0  0.0  0.0  \n",
       "1  ...  0.0  1.0  0.0  0.0  1.0  0.0  0.0  0.0  0.0  0.0  \n",
       "2  ...  0.0  1.0  0.0  0.0  0.0  0.0  1.0  0.0  0.0  0.0  \n",
       "3  ...  0.0  1.0  0.0  0.0  0.0  0.0  0.0  0.0  0.0  0.0  \n",
       "4  ...  0.0  0.0  0.0  1.0  0.0  0.0  1.0  0.0  0.0  0.0  \n",
       "\n",
       "[5 rows x 31 columns]"
      ]
     },
     "execution_count": 6,
     "metadata": {},
     "output_type": "execute_result"
    }
   ],
   "source": [
    "test.head()"
   ]
  },
  {
   "cell_type": "code",
   "execution_count": 7,
   "id": "charged-clause",
   "metadata": {
    "execution": {
     "iopub.execute_input": "2021-05-10T11:01:40.796353Z",
     "iopub.status.busy": "2021-05-10T11:01:40.795683Z",
     "iopub.status.idle": "2021-05-10T11:01:42.953750Z",
     "shell.execute_reply": "2021-05-10T11:01:42.952952Z"
    },
    "id": "2uzs1LRgmjPz",
    "papermill": {
     "duration": 2.177433,
     "end_time": "2021-05-10T11:01:42.953889",
     "exception": false,
     "start_time": "2021-05-10T11:01:40.776456",
     "status": "completed"
    },
    "tags": []
   },
   "outputs": [
    {
     "data": {
      "text/html": [
       "<style type='text/css'>\n",
       ".datatable table.frame { margin-bottom: 0; }\n",
       ".datatable table.frame thead { border-bottom: none; }\n",
       ".datatable table.frame tr.coltypes td {  color: #FFFFFF;  line-height: 6px;  padding: 0 0.5em;}\n",
       ".datatable .bool    { background: #DDDD99; }\n",
       ".datatable .object  { background: #565656; }\n",
       ".datatable .int     { background: #5D9E5D; }\n",
       ".datatable .float   { background: #4040CC; }\n",
       ".datatable .str     { background: #CC4040; }\n",
       ".datatable .row_index {  background: var(--jp-border-color3);  border-right: 1px solid var(--jp-border-color0);  color: var(--jp-ui-font-color3);  font-size: 9px;}\n",
       ".datatable .frame tr.coltypes .row_index {  background: var(--jp-border-color0);}\n",
       ".datatable th:nth-child(2) { padding-left: 12px; }\n",
       ".datatable .hellipsis {  color: var(--jp-cell-editor-border-color);}\n",
       ".datatable .vellipsis {  background: var(--jp-layout-color0);  color: var(--jp-cell-editor-border-color);}\n",
       ".datatable .na {  color: var(--jp-cell-editor-border-color);  font-size: 80%;}\n",
       ".datatable .footer { font-size: 9px; }\n",
       ".datatable .frame_dimensions {  background: var(--jp-border-color3);  border-top: 1px solid var(--jp-border-color0);  color: var(--jp-ui-font-color3);  display: inline-block;  opacity: 0.6;  padding: 1px 10px 1px 5px;}\n",
       "</style>\n"
      ],
      "text/plain": [
       "<IPython.core.display.HTML object>"
      ]
     },
     "metadata": {},
     "output_type": "display_data"
    }
   ],
   "source": [
    "rf = joblib.load('./rf.joblib')\n",
    "lgbm = joblib.load('./lgbm.joblib')\n",
    "mlp = joblib.load('./mlp.joblib')\n",
    "xgb = joblib.load('./xgb.joblib')"
   ]
  },
  {
   "cell_type": "code",
   "execution_count": 8,
   "id": "federal-wallace",
   "metadata": {
    "execution": {
     "iopub.execute_input": "2021-05-10T11:01:42.988771Z",
     "iopub.status.busy": "2021-05-10T11:01:42.987825Z",
     "iopub.status.idle": "2021-05-10T11:01:42.990950Z",
     "shell.execute_reply": "2021-05-10T11:01:42.991463Z"
    },
    "id": "jKCjJgfPL7P2",
    "papermill": {
     "duration": 0.022354,
     "end_time": "2021-05-10T11:01:42.991630",
     "exception": false,
     "start_time": "2021-05-10T11:01:42.969276",
     "status": "completed"
    },
    "tags": []
   },
   "outputs": [],
   "source": [
    "models = {'rf': rf, 'lgbm': lgbm, 'mlp': mlp, 'xgb': xgb}"
   ]
  },
  {
   "cell_type": "code",
   "execution_count": 9,
   "id": "radio-yahoo",
   "metadata": {
    "execution": {
     "iopub.execute_input": "2021-05-10T11:01:43.025712Z",
     "iopub.status.busy": "2021-05-10T11:01:43.024865Z",
     "iopub.status.idle": "2021-05-10T11:01:43.028238Z",
     "shell.execute_reply": "2021-05-10T11:01:43.027541Z"
    },
    "id": "sMMH6rJJnMne",
    "papermill": {
     "duration": 0.022502,
     "end_time": "2021-05-10T11:01:43.028388",
     "exception": false,
     "start_time": "2021-05-10T11:01:43.005886",
     "status": "completed"
    },
    "tags": []
   },
   "outputs": [],
   "source": [
    "from sklearn.ensemble import VotingClassifier\n",
    "from sklearn.metrics import accuracy_score"
   ]
  },
  {
   "cell_type": "code",
   "execution_count": 10,
   "id": "capable-lightning",
   "metadata": {
    "execution": {
     "iopub.execute_input": "2021-05-10T11:01:43.063745Z",
     "iopub.status.busy": "2021-05-10T11:01:43.063067Z",
     "iopub.status.idle": "2021-05-10T11:01:43.066060Z",
     "shell.execute_reply": "2021-05-10T11:01:43.065348Z"
    },
    "id": "MxfImcMITRxM",
    "papermill": {
     "duration": 0.023391,
     "end_time": "2021-05-10T11:01:43.066211",
     "exception": false,
     "start_time": "2021-05-10T11:01:43.042820",
     "status": "completed"
    },
    "tags": []
   },
   "outputs": [],
   "source": [
    "# Both Soft and Hard Classifiers\n",
    "main_clf_hard = VotingClassifier([(key, value) for key, value in models.items()], voting='hard', n_jobs=-1)\n",
    "main_clf_soft = VotingClassifier([(key, value) for key, value in models.items()], voting='soft', n_jobs=-1)"
   ]
  },
  {
   "cell_type": "code",
   "execution_count": 11,
   "id": "chronic-sociology",
   "metadata": {
    "execution": {
     "iopub.execute_input": "2021-05-10T11:01:43.099022Z",
     "iopub.status.busy": "2021-05-10T11:01:43.098338Z",
     "iopub.status.idle": "2021-05-10T11:04:24.140912Z",
     "shell.execute_reply": "2021-05-10T11:04:24.141662Z"
    },
    "id": "cJM0XL1JTrNQ",
    "outputId": "f04693a2-0a0a-41b1-a7d4-e82ff540748c",
    "papermill": {
     "duration": 161.060646,
     "end_time": "2021-05-10T11:04:24.141907",
     "exception": false,
     "start_time": "2021-05-10T11:01:43.081261",
     "status": "completed"
    },
    "tags": []
   },
   "outputs": [
    {
     "name": "stdout",
     "output_type": "stream",
     "text": [
      "RandomForestClassifier 0.8922558922558923\n",
      "[LightGBM] [Warning] feature_fraction is set=0.8, colsample_bytree=1.0 will be ignored. Current value: feature_fraction=0.8\n",
      "[LightGBM] [Warning] bagging_freq is set=40, subsample_freq=0 will be ignored. Current value: bagging_freq=40\n",
      "[LightGBM] [Warning] bagging_fraction is set=0.75, subsample=1.0 will be ignored. Current value: bagging_fraction=0.75\n",
      "LGBMClassifier 0.8937289562289562\n",
      "MLPClassifier 0.8916245791245792\n",
      "XGBClassifier 0.8925715488215489\n",
      "VotingClassifier 0.8939393939393939\n",
      "VotingClassifier 0.8933080808080808\n"
     ]
    }
   ],
   "source": [
    "# Testing on the test data\n",
    "for clf in (rf, lgbm, mlp, xgb, main_clf_hard, main_clf_soft):\n",
    "  clf.fit(train.drop(['status'], axis=1), train['status'])\n",
    "  y_pred = clf.predict(test.drop(['status'], axis=1))\n",
    "  print(clf.__class__.__name__, accuracy_score(test['status'], y_pred))"
   ]
  },
  {
   "cell_type": "markdown",
   "id": "diagnostic-disabled",
   "metadata": {
    "id": "xBaGvg8ckVUt",
    "papermill": {
     "duration": 0.016199,
     "end_time": "2021-05-10T11:04:24.176073",
     "exception": false,
     "start_time": "2021-05-10T11:04:24.159874",
     "status": "completed"
    },
    "tags": []
   },
   "source": [
    "**Observations**\n",
    "\n",
    "1. LGBM performs well both on the train and test data\n",
    "2. The hard voting classifier has marginal increase in performance"
   ]
  }
 ],
 "metadata": {
  "kernelspec": {
   "display_name": "Python 3",
   "language": "python",
   "name": "python3"
  },
  "language_info": {
   "codemirror_mode": {
    "name": "ipython",
    "version": 3
   },
   "file_extension": ".py",
   "mimetype": "text/x-python",
   "name": "python",
   "nbconvert_exporter": "python",
   "pygments_lexer": "ipython3",
   "version": "3.7.9"
  },
  "papermill": {
   "default_parameters": {},
   "duration": 172.62998,
   "end_time": "2021-05-10T11:04:25.237991",
   "environment_variables": {},
   "exception": null,
   "input_path": "__notebook__.ipynb",
   "output_path": "__notebook__.ipynb",
   "parameters": {},
   "start_time": "2021-05-10T11:01:32.608011",
   "version": "2.3.2"
  }
 },
 "nbformat": 4,
 "nbformat_minor": 5
}