{
 "cells": [
  {
   "cell_type": "markdown",
   "id": "ahead-virginia",
   "metadata": {
    "id": "dcd6b769",
    "papermill": {
     "duration": 0.017499,
     "end_time": "2021-05-10T07:34:21.916538",
     "exception": false,
     "start_time": "2021-05-10T07:34:21.899039",
     "status": "completed"
    },
    "tags": []
   },
   "source": [
    "## Model Exploration and Selection"
   ]
  },
  {
   "cell_type": "code",
   "execution_count": 1,
   "id": "interior-mortgage",
   "metadata": {
    "execution": {
     "iopub.execute_input": "2021-05-10T07:34:21.960075Z",
     "iopub.status.busy": "2021-05-10T07:34:21.959430Z",
     "iopub.status.idle": "2021-05-10T07:34:21.963436Z",
     "shell.execute_reply": "2021-05-10T07:34:21.962772Z"
    },
    "executionInfo": {
     "elapsed": 1162,
     "status": "ok",
     "timestamp": 1620319901341,
     "user": {
      "displayName": "Bebeto Nyamwamu",
      "photoUrl": "https://lh3.googleusercontent.com/a-/AOh14GjfSmQXPTYZf-l38RDXN2jGTqnqeSoU0KEN_DIJyA=s64",
      "userId": "15102001401625213527"
     },
     "user_tz": -180
    },
    "id": "3a1661a0",
    "papermill": {
     "duration": 0.030272,
     "end_time": "2021-05-10T07:34:21.963614",
     "exception": false,
     "start_time": "2021-05-10T07:34:21.933342",
     "status": "completed"
    },
    "tags": []
   },
   "outputs": [],
   "source": [
    "import pandas as pd"
   ]
  },
  {
   "cell_type": "code",
   "execution_count": 2,
   "id": "exempt-stereo",
   "metadata": {
    "execution": {
     "iopub.execute_input": "2021-05-10T07:34:22.003449Z",
     "iopub.status.busy": "2021-05-10T07:34:22.002713Z",
     "iopub.status.idle": "2021-05-10T07:34:22.142916Z",
     "shell.execute_reply": "2021-05-10T07:34:22.142317Z"
    },
    "executionInfo": {
     "elapsed": 873400,
     "status": "ok",
     "timestamp": 1620320773601,
     "user": {
      "displayName": "Bebeto Nyamwamu",
      "photoUrl": "https://lh3.googleusercontent.com/a-/AOh14GjfSmQXPTYZf-l38RDXN2jGTqnqeSoU0KEN_DIJyA=s64",
      "userId": "15102001401625213527"
     },
     "user_tz": -180
    },
    "id": "b5796c51",
    "papermill": {
     "duration": 0.162377,
     "end_time": "2021-05-10T07:34:22.143082",
     "exception": false,
     "start_time": "2021-05-10T07:34:21.980705",
     "status": "completed"
    },
    "tags": []
   },
   "outputs": [],
   "source": [
    "# Read the transformed train data\n",
    "# train = pd.read_csv('./train.csv')\n",
    "train = pd.read_csv('./Data/train.csv')"
   ]
  },
  {
   "cell_type": "code",
   "execution_count": 3,
   "id": "civic-amazon",
   "metadata": {
    "execution": {
     "iopub.execute_input": "2021-05-10T07:34:22.183857Z",
     "iopub.status.busy": "2021-05-10T07:34:22.183081Z",
     "iopub.status.idle": "2021-05-10T07:34:22.186357Z",
     "shell.execute_reply": "2021-05-10T07:34:22.186830Z"
    },
    "executionInfo": {
     "elapsed": 873397,
     "status": "ok",
     "timestamp": 1620320773605,
     "user": {
      "displayName": "Bebeto Nyamwamu",
      "photoUrl": "https://lh3.googleusercontent.com/a-/AOh14GjfSmQXPTYZf-l38RDXN2jGTqnqeSoU0KEN_DIJyA=s64",
      "userId": "15102001401625213527"
     },
     "user_tz": -180
    },
    "id": "8d51e446",
    "outputId": "5155b44c-dd6e-4b9b-89b8-11ee22daf819",
    "papermill": {
     "duration": 0.027109,
     "end_time": "2021-05-10T07:34:22.187000",
     "exception": false,
     "start_time": "2021-05-10T07:34:22.159891",
     "status": "completed"
    },
    "tags": []
   },
   "outputs": [
    {
     "data": {
      "text/plain": [
       "(22175, 31)"
      ]
     },
     "execution_count": 3,
     "metadata": {},
     "output_type": "execute_result"
    }
   ],
   "source": [
    "train.shape"
   ]
  },
  {
   "cell_type": "code",
   "execution_count": 4,
   "id": "sexual-mixer",
   "metadata": {
    "execution": {
     "iopub.execute_input": "2021-05-10T07:34:22.234909Z",
     "iopub.status.busy": "2021-05-10T07:34:22.234234Z",
     "iopub.status.idle": "2021-05-10T07:34:22.247917Z",
     "shell.execute_reply": "2021-05-10T07:34:22.248432Z"
    },
    "executionInfo": {
     "elapsed": 873390,
     "status": "ok",
     "timestamp": 1620320773606,
     "user": {
      "displayName": "Bebeto Nyamwamu",
      "photoUrl": "https://lh3.googleusercontent.com/a-/AOh14GjfSmQXPTYZf-l38RDXN2jGTqnqeSoU0KEN_DIJyA=s64",
      "userId": "15102001401625213527"
     },
     "user_tz": -180
    },
    "id": "74191102",
    "papermill": {
     "duration": 0.043928,
     "end_time": "2021-05-10T07:34:22.248621",
     "exception": false,
     "start_time": "2021-05-10T07:34:22.204693",
     "status": "completed"
    },
    "tags": []
   },
   "outputs": [],
   "source": [
    "inputs = train.drop(['status'], axis=1).copy()\n",
    "target = train[['status']].copy()"
   ]
  },
  {
   "cell_type": "code",
   "execution_count": 5,
   "id": "bright-state",
   "metadata": {
    "execution": {
     "iopub.execute_input": "2021-05-10T07:34:22.289136Z",
     "iopub.status.busy": "2021-05-10T07:34:22.288463Z",
     "iopub.status.idle": "2021-05-10T07:34:23.367772Z",
     "shell.execute_reply": "2021-05-10T07:34:23.367046Z"
    },
    "executionInfo": {
     "elapsed": 873385,
     "status": "ok",
     "timestamp": 1620320773607,
     "user": {
      "displayName": "Bebeto Nyamwamu",
      "photoUrl": "https://lh3.googleusercontent.com/a-/AOh14GjfSmQXPTYZf-l38RDXN2jGTqnqeSoU0KEN_DIJyA=s64",
      "userId": "15102001401625213527"
     },
     "user_tz": -180
    },
    "id": "aec1f923",
    "papermill": {
     "duration": 1.10147,
     "end_time": "2021-05-10T07:34:23.367920",
     "exception": false,
     "start_time": "2021-05-10T07:34:22.266450",
     "status": "completed"
    },
    "tags": []
   },
   "outputs": [],
   "source": [
    "from sklearn.model_selection import StratifiedKFold,cross_val_score\n",
    "from sklearn.metrics import classification_report"
   ]
  },
  {
   "cell_type": "code",
   "execution_count": 6,
   "id": "oriental-stanley",
   "metadata": {
    "execution": {
     "iopub.execute_input": "2021-05-10T07:34:23.408831Z",
     "iopub.status.busy": "2021-05-10T07:34:23.408167Z",
     "iopub.status.idle": "2021-05-10T07:34:24.953447Z",
     "shell.execute_reply": "2021-05-10T07:34:24.954291Z"
    },
    "executionInfo": {
     "elapsed": 873947,
     "status": "ok",
     "timestamp": 1620320774176,
     "user": {
      "displayName": "Bebeto Nyamwamu",
      "photoUrl": "https://lh3.googleusercontent.com/a-/AOh14GjfSmQXPTYZf-l38RDXN2jGTqnqeSoU0KEN_DIJyA=s64",
      "userId": "15102001401625213527"
     },
     "user_tz": -180
    },
    "id": "faf83ab6",
    "papermill": {
     "duration": 1.568876,
     "end_time": "2021-05-10T07:34:24.954498",
     "exception": false,
     "start_time": "2021-05-10T07:34:23.385622",
     "status": "completed"
    },
    "tags": []
   },
   "outputs": [
    {
     "data": {
      "text/html": [
       "<style type='text/css'>\n",
       ".datatable table.frame { margin-bottom: 0; }\n",
       ".datatable table.frame thead { border-bottom: none; }\n",
       ".datatable table.frame tr.coltypes td {  color: #FFFFFF;  line-height: 6px;  padding: 0 0.5em;}\n",
       ".datatable .bool    { background: #DDDD99; }\n",
       ".datatable .object  { background: #565656; }\n",
       ".datatable .int     { background: #5D9E5D; }\n",
       ".datatable .float   { background: #4040CC; }\n",
       ".datatable .str     { background: #CC4040; }\n",
       ".datatable .row_index {  background: var(--jp-border-color3);  border-right: 1px solid var(--jp-border-color0);  color: var(--jp-ui-font-color3);  font-size: 9px;}\n",
       ".datatable .frame tr.coltypes .row_index {  background: var(--jp-border-color0);}\n",
       ".datatable th:nth-child(2) { padding-left: 12px; }\n",
       ".datatable .hellipsis {  color: var(--jp-cell-editor-border-color);}\n",
       ".datatable .vellipsis {  background: var(--jp-layout-color0);  color: var(--jp-cell-editor-border-color);}\n",
       ".datatable .na {  color: var(--jp-cell-editor-border-color);  font-size: 80%;}\n",
       ".datatable .footer { font-size: 9px; }\n",
       ".datatable .frame_dimensions {  background: var(--jp-border-color3);  border-top: 1px solid var(--jp-border-color0);  color: var(--jp-ui-font-color3);  display: inline-block;  opacity: 0.6;  padding: 1px 10px 1px 5px;}\n",
       "</style>\n"
      ],
      "text/plain": [
       "<IPython.core.display.HTML object>"
      ]
     },
     "metadata": {},
     "output_type": "display_data"
    }
   ],
   "source": [
    "#Loading the classifiers\n",
    "from xgboost import XGBClassifier\n",
    "from lightgbm import LGBMClassifier\n",
    "from sklearn.ensemble import RandomForestClassifier\n",
    "from sklearn.neural_network import MLPClassifier"
   ]
  },
  {
   "cell_type": "code",
   "execution_count": 7,
   "id": "commercial-scottish",
   "metadata": {
    "execution": {
     "iopub.execute_input": "2021-05-10T07:34:24.997383Z",
     "iopub.status.busy": "2021-05-10T07:34:24.996680Z",
     "iopub.status.idle": "2021-05-10T07:34:24.999152Z",
     "shell.execute_reply": "2021-05-10T07:34:24.998648Z"
    },
    "executionInfo": {
     "elapsed": 873941,
     "status": "ok",
     "timestamp": 1620320774177,
     "user": {
      "displayName": "Bebeto Nyamwamu",
      "photoUrl": "https://lh3.googleusercontent.com/a-/AOh14GjfSmQXPTYZf-l38RDXN2jGTqnqeSoU0KEN_DIJyA=s64",
      "userId": "15102001401625213527"
     },
     "user_tz": -180
    },
    "id": "16e05cb8",
    "papermill": {
     "duration": 0.025885,
     "end_time": "2021-05-10T07:34:24.999295",
     "exception": false,
     "start_time": "2021-05-10T07:34:24.973410",
     "status": "completed"
    },
    "tags": []
   },
   "outputs": [],
   "source": [
    "def display_scores(scores):\n",
    "    print('Scores ', scores)\n",
    "    print('Mean Score', scores.mean())\n",
    "    print('Std', scores.std())"
   ]
  },
  {
   "cell_type": "markdown",
   "id": "black-galaxy",
   "metadata": {
    "id": "3dbc12c1",
    "papermill": {
     "duration": 0.017949,
     "end_time": "2021-05-10T07:34:25.035718",
     "exception": false,
     "start_time": "2021-05-10T07:34:25.017769",
     "status": "completed"
    },
    "tags": []
   },
   "source": [
    "### Model Pre-evaluation\n",
    "\n",
    "**1. MLP Classifier**"
   ]
  },
  {
   "cell_type": "code",
   "execution_count": 8,
   "id": "advance-challenge",
   "metadata": {
    "execution": {
     "iopub.execute_input": "2021-05-10T07:34:25.078772Z",
     "iopub.status.busy": "2021-05-10T07:34:25.078127Z",
     "iopub.status.idle": "2021-05-10T07:42:53.902366Z",
     "shell.execute_reply": "2021-05-10T07:42:53.903408Z"
    },
    "executionInfo": {
     "elapsed": 1199246,
     "status": "ok",
     "timestamp": 1620321099489,
     "user": {
      "displayName": "Bebeto Nyamwamu",
      "photoUrl": "https://lh3.googleusercontent.com/a-/AOh14GjfSmQXPTYZf-l38RDXN2jGTqnqeSoU0KEN_DIJyA=s64",
      "userId": "15102001401625213527"
     },
     "user_tz": -180
    },
    "id": "dc392da4",
    "outputId": "e938d47a-04fb-4749-9de2-c3b1ec260d6a",
    "papermill": {
     "duration": 508.849447,
     "end_time": "2021-05-10T07:42:53.903719",
     "exception": false,
     "start_time": "2021-05-10T07:34:25.054272",
     "status": "completed"
    },
    "tags": []
   },
   "outputs": [
    {
     "name": "stdout",
     "output_type": "stream",
     "text": [
      "Scores  [0.88638413 0.88818756 0.88548242 0.89269612 0.88322813 0.88543076\n",
      " 0.8917456  0.88858818 0.88182228 0.88452864]\n",
      "Mean Score 0.8868093830239566\n",
      "Std 0.003329024271020675\n"
     ]
    }
   ],
   "source": [
    "mlp_cls = MLPClassifier(max_iter=500)\n",
    "mlp_scores = cross_val_score(mlp_cls, inputs, target.values.ravel(), scoring='accuracy', cv=StratifiedKFold(n_splits=10))\n",
    "\n",
    "display_scores(mlp_scores)"
   ]
  },
  {
   "cell_type": "markdown",
   "id": "tropical-hollywood",
   "metadata": {
    "id": "351bc6fe",
    "papermill": {
     "duration": 0.03315,
     "end_time": "2021-05-10T07:42:53.970773",
     "exception": false,
     "start_time": "2021-05-10T07:42:53.937623",
     "status": "completed"
    },
    "tags": []
   },
   "source": [
    "**2. XGB Classifier**"
   ]
  },
  {
   "cell_type": "code",
   "execution_count": 9,
   "id": "million-holder",
   "metadata": {
    "execution": {
     "iopub.execute_input": "2021-05-10T07:42:54.019428Z",
     "iopub.status.busy": "2021-05-10T07:42:54.018714Z",
     "iopub.status.idle": "2021-05-10T07:43:43.830677Z",
     "shell.execute_reply": "2021-05-10T07:43:43.831424Z"
    },
    "executionInfo": {
     "elapsed": 1255031,
     "status": "ok",
     "timestamp": 1620321155291,
     "user": {
      "displayName": "Bebeto Nyamwamu",
      "photoUrl": "https://lh3.googleusercontent.com/a-/AOh14GjfSmQXPTYZf-l38RDXN2jGTqnqeSoU0KEN_DIJyA=s64",
      "userId": "15102001401625213527"
     },
     "user_tz": -180
    },
    "id": "9de18de5",
    "outputId": "24c9b194-62cc-4795-cccc-372190ab8323",
    "papermill": {
     "duration": 49.838096,
     "end_time": "2021-05-10T07:43:43.831662",
     "exception": false,
     "start_time": "2021-05-10T07:42:53.993566",
     "status": "completed"
    },
    "tags": []
   },
   "outputs": [
    {
     "name": "stdout",
     "output_type": "stream",
     "text": [
      "[07:42:54] WARNING: ../src/learner.cc:1095: Starting in XGBoost 1.3.0, the default evaluation metric used with the objective 'multi:softprob' was changed from 'merror' to 'mlogloss'. Explicitly set eval_metric if you'd like to restore the old behavior.\n"
     ]
    },
    {
     "name": "stderr",
     "output_type": "stream",
     "text": [
      "/opt/conda/lib/python3.7/site-packages/xgboost/data.py:114: UserWarning: Use subset (sliced data) of np.ndarray is not recommended because it will generate extra copies and increase memory consumption\n",
      "  \"because it will generate extra copies and increase \" +\n"
     ]
    },
    {
     "name": "stdout",
     "output_type": "stream",
     "text": [
      "[07:42:58] WARNING: ../src/learner.cc:1095: Starting in XGBoost 1.3.0, the default evaluation metric used with the objective 'multi:softprob' was changed from 'merror' to 'mlogloss'. Explicitly set eval_metric if you'd like to restore the old behavior.\n"
     ]
    },
    {
     "name": "stderr",
     "output_type": "stream",
     "text": [
      "/opt/conda/lib/python3.7/site-packages/xgboost/data.py:114: UserWarning: Use subset (sliced data) of np.ndarray is not recommended because it will generate extra copies and increase memory consumption\n",
      "  \"because it will generate extra copies and increase \" +\n"
     ]
    },
    {
     "name": "stdout",
     "output_type": "stream",
     "text": [
      "[07:43:04] WARNING: ../src/learner.cc:1095: Starting in XGBoost 1.3.0, the default evaluation metric used with the objective 'multi:softprob' was changed from 'merror' to 'mlogloss'. Explicitly set eval_metric if you'd like to restore the old behavior.\n"
     ]
    },
    {
     "name": "stderr",
     "output_type": "stream",
     "text": [
      "/opt/conda/lib/python3.7/site-packages/xgboost/data.py:114: UserWarning: Use subset (sliced data) of np.ndarray is not recommended because it will generate extra copies and increase memory consumption\n",
      "  \"because it will generate extra copies and increase \" +\n"
     ]
    },
    {
     "name": "stdout",
     "output_type": "stream",
     "text": [
      "[07:43:09] WARNING: ../src/learner.cc:1095: Starting in XGBoost 1.3.0, the default evaluation metric used with the objective 'multi:softprob' was changed from 'merror' to 'mlogloss'. Explicitly set eval_metric if you'd like to restore the old behavior.\n"
     ]
    },
    {
     "name": "stderr",
     "output_type": "stream",
     "text": [
      "/opt/conda/lib/python3.7/site-packages/xgboost/data.py:114: UserWarning: Use subset (sliced data) of np.ndarray is not recommended because it will generate extra copies and increase memory consumption\n",
      "  \"because it will generate extra copies and increase \" +\n"
     ]
    },
    {
     "name": "stdout",
     "output_type": "stream",
     "text": [
      "[07:43:14] WARNING: ../src/learner.cc:1095: Starting in XGBoost 1.3.0, the default evaluation metric used with the objective 'multi:softprob' was changed from 'merror' to 'mlogloss'. Explicitly set eval_metric if you'd like to restore the old behavior.\n"
     ]
    },
    {
     "name": "stderr",
     "output_type": "stream",
     "text": [
      "/opt/conda/lib/python3.7/site-packages/xgboost/data.py:114: UserWarning: Use subset (sliced data) of np.ndarray is not recommended because it will generate extra copies and increase memory consumption\n",
      "  \"because it will generate extra copies and increase \" +\n"
     ]
    },
    {
     "name": "stdout",
     "output_type": "stream",
     "text": [
      "[07:43:18] WARNING: ../src/learner.cc:1095: Starting in XGBoost 1.3.0, the default evaluation metric used with the objective 'multi:softprob' was changed from 'merror' to 'mlogloss'. Explicitly set eval_metric if you'd like to restore the old behavior.\n"
     ]
    },
    {
     "name": "stderr",
     "output_type": "stream",
     "text": [
      "/opt/conda/lib/python3.7/site-packages/xgboost/data.py:114: UserWarning: Use subset (sliced data) of np.ndarray is not recommended because it will generate extra copies and increase memory consumption\n",
      "  \"because it will generate extra copies and increase \" +\n"
     ]
    },
    {
     "name": "stdout",
     "output_type": "stream",
     "text": [
      "[07:43:23] WARNING: ../src/learner.cc:1095: Starting in XGBoost 1.3.0, the default evaluation metric used with the objective 'multi:softprob' was changed from 'merror' to 'mlogloss'. Explicitly set eval_metric if you'd like to restore the old behavior.\n"
     ]
    },
    {
     "name": "stderr",
     "output_type": "stream",
     "text": [
      "/opt/conda/lib/python3.7/site-packages/xgboost/data.py:114: UserWarning: Use subset (sliced data) of np.ndarray is not recommended because it will generate extra copies and increase memory consumption\n",
      "  \"because it will generate extra copies and increase \" +\n"
     ]
    },
    {
     "name": "stdout",
     "output_type": "stream",
     "text": [
      "[07:43:28] WARNING: ../src/learner.cc:1095: Starting in XGBoost 1.3.0, the default evaluation metric used with the objective 'multi:softprob' was changed from 'merror' to 'mlogloss'. Explicitly set eval_metric if you'd like to restore the old behavior.\n"
     ]
    },
    {
     "name": "stderr",
     "output_type": "stream",
     "text": [
      "/opt/conda/lib/python3.7/site-packages/xgboost/data.py:114: UserWarning: Use subset (sliced data) of np.ndarray is not recommended because it will generate extra copies and increase memory consumption\n",
      "  \"because it will generate extra copies and increase \" +\n"
     ]
    },
    {
     "name": "stdout",
     "output_type": "stream",
     "text": [
      "[07:43:33] WARNING: ../src/learner.cc:1095: Starting in XGBoost 1.3.0, the default evaluation metric used with the objective 'multi:softprob' was changed from 'merror' to 'mlogloss'. Explicitly set eval_metric if you'd like to restore the old behavior.\n"
     ]
    },
    {
     "name": "stderr",
     "output_type": "stream",
     "text": [
      "/opt/conda/lib/python3.7/site-packages/xgboost/data.py:114: UserWarning: Use subset (sliced data) of np.ndarray is not recommended because it will generate extra copies and increase memory consumption\n",
      "  \"because it will generate extra copies and increase \" +\n"
     ]
    },
    {
     "name": "stdout",
     "output_type": "stream",
     "text": [
      "[07:43:39] WARNING: ../src/learner.cc:1095: Starting in XGBoost 1.3.0, the default evaluation metric used with the objective 'multi:softprob' was changed from 'merror' to 'mlogloss'. Explicitly set eval_metric if you'd like to restore the old behavior.\n",
      "Scores  [0.88548242 0.88999098 0.89134355 0.8908927  0.88683499 0.88543076\n",
      " 0.8940009  0.8917456  0.89039242 0.89309878]\n",
      "Mean Score 0.8899213105712761\n",
      "Std 0.0028749747081191442\n"
     ]
    },
    {
     "name": "stderr",
     "output_type": "stream",
     "text": [
      "/opt/conda/lib/python3.7/site-packages/xgboost/data.py:114: UserWarning: Use subset (sliced data) of np.ndarray is not recommended because it will generate extra copies and increase memory consumption\n",
      "  \"because it will generate extra copies and increase \" +\n"
     ]
    }
   ],
   "source": [
    "xgb_cls = XGBClassifier(use_label_encoder=False)\n",
    "xgb_scores = cross_val_score(xgb_cls, inputs, target.values.ravel(), scoring='accuracy', cv=StratifiedKFold(n_splits=10))\n",
    "\n",
    "display_scores(xgb_scores)"
   ]
  },
  {
   "cell_type": "markdown",
   "id": "usual-montreal",
   "metadata": {
    "id": "c04c7e70",
    "papermill": {
     "duration": 0.024929,
     "end_time": "2021-05-10T07:43:43.884757",
     "exception": false,
     "start_time": "2021-05-10T07:43:43.859828",
     "status": "completed"
    },
    "tags": []
   },
   "source": [
    "**3. LGBM Classifier**"
   ]
  },
  {
   "cell_type": "code",
   "execution_count": 10,
   "id": "supposed-value",
   "metadata": {
    "execution": {
     "iopub.execute_input": "2021-05-10T07:43:43.941639Z",
     "iopub.status.busy": "2021-05-10T07:43:43.940630Z",
     "iopub.status.idle": "2021-05-10T07:43:51.585456Z",
     "shell.execute_reply": "2021-05-10T07:43:51.586262Z"
    },
    "executionInfo": {
     "elapsed": 1266644,
     "status": "ok",
     "timestamp": 1620321166916,
     "user": {
      "displayName": "Bebeto Nyamwamu",
      "photoUrl": "https://lh3.googleusercontent.com/a-/AOh14GjfSmQXPTYZf-l38RDXN2jGTqnqeSoU0KEN_DIJyA=s64",
      "userId": "15102001401625213527"
     },
     "user_tz": -180
    },
    "id": "43234629",
    "outputId": "6c5c90bf-ffdf-4eb1-cecf-182b0d7aa53b",
    "papermill": {
     "duration": 7.676652,
     "end_time": "2021-05-10T07:43:51.586524",
     "exception": false,
     "start_time": "2021-05-10T07:43:43.909872",
     "status": "completed"
    },
    "tags": []
   },
   "outputs": [
    {
     "name": "stdout",
     "output_type": "stream",
     "text": [
      "Scores  [0.88683499 0.89359784 0.89179441 0.89404869 0.88908927 0.88994136\n",
      " 0.8917456  0.89445196 0.89129454 0.89264772]\n",
      "Mean Score 0.8915446384666726\n",
      "Std 0.0022605464752303815\n"
     ]
    }
   ],
   "source": [
    "lgbm_cls = LGBMClassifier()\n",
    "lgbm_scores = cross_val_score(lgbm_cls, inputs, target.values.ravel(), scoring='accuracy', cv=StratifiedKFold(n_splits=10))\n",
    "\n",
    "display_scores(lgbm_scores)"
   ]
  },
  {
   "cell_type": "markdown",
   "id": "sonic-paragraph",
   "metadata": {
    "id": "6d9bc879",
    "papermill": {
     "duration": 0.025053,
     "end_time": "2021-05-10T07:43:51.640502",
     "exception": false,
     "start_time": "2021-05-10T07:43:51.615449",
     "status": "completed"
    },
    "tags": []
   },
   "source": [
    "**4. Random Forest Classifier**"
   ]
  },
  {
   "cell_type": "code",
   "execution_count": 11,
   "id": "rental-houston",
   "metadata": {
    "execution": {
     "iopub.execute_input": "2021-05-10T07:43:51.698124Z",
     "iopub.status.busy": "2021-05-10T07:43:51.697383Z",
     "iopub.status.idle": "2021-05-10T07:44:13.032952Z",
     "shell.execute_reply": "2021-05-10T07:44:13.033453Z"
    },
    "executionInfo": {
     "elapsed": 1284473,
     "status": "ok",
     "timestamp": 1620321184758,
     "user": {
      "displayName": "Bebeto Nyamwamu",
      "photoUrl": "https://lh3.googleusercontent.com/a-/AOh14GjfSmQXPTYZf-l38RDXN2jGTqnqeSoU0KEN_DIJyA=s64",
      "userId": "15102001401625213527"
     },
     "user_tz": -180
    },
    "id": "b03f74ad",
    "outputId": "d72f7f91-bc7b-43e4-d7be-b70447d4c2f8",
    "papermill": {
     "duration": 21.367427,
     "end_time": "2021-05-10T07:44:13.033631",
     "exception": false,
     "start_time": "2021-05-10T07:43:51.666204",
     "status": "completed"
    },
    "tags": []
   },
   "outputs": [
    {
     "name": "stdout",
     "output_type": "stream",
     "text": [
      "Scores  [0.88142471 0.88232642 0.874211   0.88367899 0.88683499 0.87009472\n",
      " 0.87956698 0.88317546 0.87505638 0.87956698]\n",
      "Mean Score 0.8795936636849527\n",
      "Std 0.004822529330241948\n"
     ]
    }
   ],
   "source": [
    "rf_cls = RandomForestClassifier()\n",
    "rf_scores = cross_val_score(rf_cls, inputs, target.values.ravel(), scoring='accuracy', cv=StratifiedKFold(n_splits=10))\n",
    "\n",
    "display_scores(rf_scores)"
   ]
  },
  {
   "cell_type": "markdown",
   "id": "heard-hurricane",
   "metadata": {
    "id": "367fb4ad",
    "papermill": {
     "duration": 0.025665,
     "end_time": "2021-05-10T07:44:13.086354",
     "exception": false,
     "start_time": "2021-05-10T07:44:13.060689",
     "status": "completed"
    },
    "tags": []
   },
   "source": [
    "**Observations**\n",
    "\n",
    "Clearly, XGB performs better not by far as the others are close behind. To improve the performance this notebook will hyperparamaeter tune the models and then build a voting classifier.\n",
    "\n",
    "\n",
    "### Fine Tuning the Models"
   ]
  },
  {
   "cell_type": "code",
   "execution_count": 12,
   "id": "boxed-papua",
   "metadata": {
    "execution": {
     "iopub.execute_input": "2021-05-10T07:44:13.149398Z",
     "iopub.status.busy": "2021-05-10T07:44:13.148722Z",
     "iopub.status.idle": "2021-05-10T07:44:13.151187Z",
     "shell.execute_reply": "2021-05-10T07:44:13.151670Z"
    },
    "executionInfo": {
     "elapsed": 1284464,
     "status": "ok",
     "timestamp": 1620321184762,
     "user": {
      "displayName": "Bebeto Nyamwamu",
      "photoUrl": "https://lh3.googleusercontent.com/a-/AOh14GjfSmQXPTYZf-l38RDXN2jGTqnqeSoU0KEN_DIJyA=s64",
      "userId": "15102001401625213527"
     },
     "user_tz": -180
    },
    "id": "cbe40970",
    "papermill": {
     "duration": 0.039332,
     "end_time": "2021-05-10T07:44:13.151838",
     "exception": false,
     "start_time": "2021-05-10T07:44:13.112506",
     "status": "completed"
    },
    "tags": []
   },
   "outputs": [],
   "source": [
    "from sklearn.model_selection import GridSearchCV\n",
    "\n",
    "rf_param_grid = {\n",
    "    'n_estimators': [100, 150, 250,],\n",
    "    'criterion': ['gini', 'entropy'],\n",
    "    \"min_samples_split\":[2,3,10],\n",
    "    \"min_samples_leaf\":[1,3,10],\n",
    "    'max_features': ['sqrt', 'log2']\n",
    "}\n",
    "\n",
    "lgb_param_grid = {\n",
    "    'boosting_type':['gbrt', 'dart'],\n",
    "    'objective':['multiclass'],\n",
    "    'learning_rate': [0.025, 0.05, 0.1],\n",
    "    'n_estimators': [100, 150, 250],\n",
    "    'metric': ['auc_mu', 'multi_logloss', 'multi_error'],\n",
    "    'bagging_fraction': [0.5, 0.75],\n",
    "    'feature_fraction':[0.8],\n",
    "    'bagging_freq':[25, 40]\n",
    "}\n",
    "\n",
    "mlp_param_grid = {\n",
    "    'hidden_layer_sizes' : [(100,), (150,)],\n",
    "    'activation': ['relu'],\n",
    "    'alpha': [0.0001, 0.001],\n",
    "    'max_iter': [1000, 1500],\n",
    "    'learning_rate_init': [0.01, 0.03, 0.05],\n",
    "}\n",
    "\n",
    "xgb_param_grid = {\n",
    "    'booster' : ['dart'],\n",
    "    'eta' : [0.01, 0.05, 0.1],\n",
    "    'objective': ['multi:softprob'],\n",
    "    'eval_metric': ['mlogloss']\n",
    "}\n",
    "\n",
    "classifier_param = [rf_param_grid, lgb_param_grid, mlp_param_grid, xgb_param_grid]\n",
    "\n",
    "# Classifiers\n",
    "\n",
    "classifier = [RandomForestClassifier(), LGBMClassifier(), MLPClassifier() ,XGBClassifier(use_label_encoder=False)]"
   ]
  },
  {
   "cell_type": "code",
   "execution_count": 13,
   "id": "rolled-bowling",
   "metadata": {
    "execution": {
     "iopub.execute_input": "2021-05-10T07:44:13.212574Z",
     "iopub.status.busy": "2021-05-10T07:44:13.211776Z",
     "iopub.status.idle": "2021-05-10T10:29:57.394742Z",
     "shell.execute_reply": "2021-05-10T10:29:57.395700Z"
    },
    "executionInfo": {
     "elapsed": 11501235,
     "status": "ok",
     "timestamp": 1620331401543,
     "user": {
      "displayName": "Bebeto Nyamwamu",
      "photoUrl": "https://lh3.googleusercontent.com/a-/AOh14GjfSmQXPTYZf-l38RDXN2jGTqnqeSoU0KEN_DIJyA=s64",
      "userId": "15102001401625213527"
     },
     "user_tz": -180
    },
    "id": "f74cd970",
    "outputId": "a6603972-c577-469d-bf1d-9c34a24a8b8a",
    "papermill": {
     "duration": 9944.217997,
     "end_time": "2021-05-10T10:29:57.396338",
     "exception": false,
     "start_time": "2021-05-10T07:44:13.178341",
     "status": "completed"
    },
    "tags": []
   },
   "outputs": [
    {
     "name": "stdout",
     "output_type": "stream",
     "text": [
      "[LightGBM] [Warning] feature_fraction is set=0.8, colsample_bytree=1.0 will be ignored. Current value: feature_fraction=0.8\n",
      "[LightGBM] [Warning] bagging_freq is set=40, subsample_freq=0 will be ignored. Current value: bagging_freq=40\n",
      "[LightGBM] [Warning] bagging_fraction is set=0.75, subsample=1.0 will be ignored. Current value: bagging_fraction=0.75\n"
     ]
    }
   ],
   "source": [
    "cv_result = []\n",
    "best_estimators = []\n",
    "\n",
    "for i in range(len(classifier)):\n",
    "  clf = GridSearchCV(classifier[i], param_grid = classifier_param[i], scoring = 'accuracy', n_jobs=-1, cv=StratifiedKFold(n_splits=5))\n",
    "  clf.fit(inputs, target.values.ravel())\n",
    "  cv_result.append(clf.best_score_)\n",
    "  best_estimators.append(clf.best_estimator_)"
   ]
  },
  {
   "cell_type": "code",
   "execution_count": 14,
   "id": "american-liverpool",
   "metadata": {
    "execution": {
     "iopub.execute_input": "2021-05-10T10:29:57.471280Z",
     "iopub.status.busy": "2021-05-10T10:29:57.470333Z",
     "iopub.status.idle": "2021-05-10T10:29:57.472926Z",
     "shell.execute_reply": "2021-05-10T10:29:57.473434Z"
    },
    "executionInfo": {
     "elapsed": 11501225,
     "status": "ok",
     "timestamp": 1620331401547,
     "user": {
      "displayName": "Bebeto Nyamwamu",
      "photoUrl": "https://lh3.googleusercontent.com/a-/AOh14GjfSmQXPTYZf-l38RDXN2jGTqnqeSoU0KEN_DIJyA=s64",
      "userId": "15102001401625213527"
     },
     "user_tz": -180
    },
    "id": "7cda7daa",
    "papermill": {
     "duration": 0.045027,
     "end_time": "2021-05-10T10:29:57.473669",
     "exception": false,
     "start_time": "2021-05-10T10:29:57.428642",
     "status": "completed"
    },
    "tags": []
   },
   "outputs": [],
   "source": [
    "result = pd.DataFrame({'Mean Score': cv_result, 'Model': ['Random Forest', 'LGBM', 'MLP', 'XGBoost']})"
   ]
  },
  {
   "cell_type": "code",
   "execution_count": 15,
   "id": "successful-amazon",
   "metadata": {
    "execution": {
     "iopub.execute_input": "2021-05-10T10:29:57.533155Z",
     "iopub.status.busy": "2021-05-10T10:29:57.532479Z",
     "iopub.status.idle": "2021-05-10T10:29:57.535829Z",
     "shell.execute_reply": "2021-05-10T10:29:57.535166Z"
    },
    "executionInfo": {
     "elapsed": 11501210,
     "status": "ok",
     "timestamp": 1620331401548,
     "user": {
      "displayName": "Bebeto Nyamwamu",
      "photoUrl": "https://lh3.googleusercontent.com/a-/AOh14GjfSmQXPTYZf-l38RDXN2jGTqnqeSoU0KEN_DIJyA=s64",
      "userId": "15102001401625213527"
     },
     "user_tz": -180
    },
    "id": "OVgbK2PbF6pp",
    "papermill": {
     "duration": 0.035323,
     "end_time": "2021-05-10T10:29:57.535988",
     "exception": false,
     "start_time": "2021-05-10T10:29:57.500665",
     "status": "completed"
    },
    "tags": []
   },
   "outputs": [],
   "source": [
    "rf = best_estimators[0]\n",
    "lgbm = best_estimators[1]\n",
    "mlp = best_estimators[2]\n",
    "xgb = best_estimators[3]"
   ]
  },
  {
   "cell_type": "code",
   "execution_count": 16,
   "id": "complicated-mystery",
   "metadata": {
    "execution": {
     "iopub.execute_input": "2021-05-10T10:29:57.594582Z",
     "iopub.status.busy": "2021-05-10T10:29:57.593892Z",
     "iopub.status.idle": "2021-05-10T10:29:58.207448Z",
     "shell.execute_reply": "2021-05-10T10:29:58.206784Z"
    },
    "executionInfo": {
     "elapsed": 11503174,
     "status": "ok",
     "timestamp": 1620331403533,
     "user": {
      "displayName": "Bebeto Nyamwamu",
      "photoUrl": "https://lh3.googleusercontent.com/a-/AOh14GjfSmQXPTYZf-l38RDXN2jGTqnqeSoU0KEN_DIJyA=s64",
      "userId": "15102001401625213527"
     },
     "user_tz": -180
    },
    "id": "ca1N_uIjEn2s",
    "papermill": {
     "duration": 0.644041,
     "end_time": "2021-05-10T10:29:58.207605",
     "exception": false,
     "start_time": "2021-05-10T10:29:57.563564",
     "status": "completed"
    },
    "tags": []
   },
   "outputs": [],
   "source": [
    "import joblib, os\n",
    "path = './'\n",
    "filenames =  ['rf.joblib', 'lgbm.joblib','mlp.joblib', 'xgb.joblib']\n",
    "models = [rf, lgbm, mlp, xgb]\n",
    "\n",
    "for i in range(len(filenames)):\n",
    "  joblib.dump(models[i], os.path.join(path, filenames[i]))"
   ]
  },
  {
   "cell_type": "code",
   "execution_count": 17,
   "id": "brutal-photographer",
   "metadata": {
    "execution": {
     "iopub.execute_input": "2021-05-10T10:29:58.269597Z",
     "iopub.status.busy": "2021-05-10T10:29:58.268885Z",
     "iopub.status.idle": "2021-05-10T10:29:58.280189Z",
     "shell.execute_reply": "2021-05-10T10:29:58.279535Z"
    },
    "executionInfo": {
     "elapsed": 11503168,
     "status": "ok",
     "timestamp": 1620331403537,
     "user": {
      "displayName": "Bebeto Nyamwamu",
      "photoUrl": "https://lh3.googleusercontent.com/a-/AOh14GjfSmQXPTYZf-l38RDXN2jGTqnqeSoU0KEN_DIJyA=s64",
      "userId": "15102001401625213527"
     },
     "user_tz": -180
    },
    "id": "p19-o20OGf_g",
    "papermill": {
     "duration": 0.044873,
     "end_time": "2021-05-10T10:29:58.280362",
     "exception": false,
     "start_time": "2021-05-10T10:29:58.235489",
     "status": "completed"
    },
    "tags": []
   },
   "outputs": [],
   "source": [
    "result.to_csv('./result.csv')"
   ]
  }
 ],
 "metadata": {
  "kernelspec": {
   "display_name": "Python 3",
   "language": "python",
   "name": "python3"
  },
  "language_info": {
   "codemirror_mode": {
    "name": "ipython",
    "version": 3
   },
   "file_extension": ".py",
   "mimetype": "text/x-python",
   "name": "python",
   "nbconvert_exporter": "python",
   "pygments_lexer": "ipython3",
   "version": "3.7.10"
  },
  "papermill": {
   "default_parameters": {},
   "duration": 10546.646185,
   "end_time": "2021-05-10T10:29:59.524876",
   "environment_variables": {},
   "exception": null,
   "input_path": "__notebook__.ipynb",
   "output_path": "__notebook__.ipynb",
   "parameters": {},
   "start_time": "2021-05-10T07:34:12.878691",
   "version": "2.3.3"
  }
 },
 "nbformat": 4,
 "nbformat_minor": 5
}